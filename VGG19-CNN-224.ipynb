{
 "cells": [
  {
   "cell_type": "code",
   "execution_count": 1,
   "metadata": {},
   "outputs": [],
   "source": [
    "import tensorflow as tf"
   ]
  },
  {
   "cell_type": "code",
   "execution_count": 2,
   "metadata": {},
   "outputs": [],
   "source": [
    "from tensorflow.keras.models import Sequential\n",
    "from tensorflow.keras.layers import Dense, Conv2D, Flatten, Dropout, MaxPooling2D\n",
    "from tensorflow.keras.preprocessing.image import ImageDataGenerator\n",
    "\n",
    "import os\n",
    "import numpy as np\n",
    "import matplotlib.pyplot as plt"
   ]
  },
  {
   "cell_type": "code",
   "execution_count": 3,
   "metadata": {},
   "outputs": [],
   "source": [
    "WRK_DIR = '/home/boo/Documents/Personal/Projects/ImageResolution/'\n",
    "PATH = os.path.join(WRK_DIR, 'Data_224')"
   ]
  },
  {
   "cell_type": "code",
   "execution_count": 4,
   "metadata": {},
   "outputs": [],
   "source": [
    "train_dir = os.path.join(PATH, 'train')\n",
    "validation_dir = os.path.join(PATH, 'val')"
   ]
  },
  {
   "cell_type": "code",
   "execution_count": 5,
   "metadata": {},
   "outputs": [],
   "source": [
    "train_cats_dir = os.path.join(train_dir, 'cats')  # directory with our training cat pictures\n",
    "train_dogs_dir = os.path.join(train_dir, 'dogs')  # directory with our training dog pictures\n",
    "validation_cats_dir = os.path.join(validation_dir, 'cats')  # directory with our validation cat pictures\n",
    "validation_dogs_dir = os.path.join(validation_dir, 'dogs')  # directory with our validation dog pictures"
   ]
  },
  {
   "cell_type": "code",
   "execution_count": 6,
   "metadata": {},
   "outputs": [],
   "source": [
    "num_cats_tr = len(os.listdir(train_cats_dir))\n",
    "num_dogs_tr = len(os.listdir(train_dogs_dir))\n",
    "\n",
    "num_cats_val = len(os.listdir(validation_cats_dir))\n",
    "num_dogs_val = len(os.listdir(validation_dogs_dir))\n",
    "\n",
    "total_train = num_cats_tr + num_dogs_tr\n",
    "total_val = num_cats_val + num_dogs_val"
   ]
  },
  {
   "cell_type": "code",
   "execution_count": 7,
   "metadata": {},
   "outputs": [
    {
     "name": "stdout",
     "output_type": "stream",
     "text": [
      "total training cat images: 2449\n",
      "total training dog images: 2397\n",
      "total validation cat images: 288\n",
      "total validation dog images: 282\n",
      "--\n",
      "Total training images: 4846\n",
      "Total validation images: 570\n"
     ]
    }
   ],
   "source": [
    "print('total training cat images:', num_cats_tr)\n",
    "print('total training dog images:', num_dogs_tr)\n",
    "\n",
    "print('total validation cat images:', num_cats_val)\n",
    "print('total validation dog images:', num_dogs_val)\n",
    "print(\"--\")\n",
    "print(\"Total training images:\", total_train)\n",
    "print(\"Total validation images:\", total_val)"
   ]
  },
  {
   "cell_type": "code",
   "execution_count": 8,
   "metadata": {},
   "outputs": [],
   "source": [
    "batch_size = 128\n",
    "epochs = 7\n",
    "IMG_HEIGHT = 224\n",
    "IMG_WIDTH = 224"
   ]
  },
  {
   "cell_type": "code",
   "execution_count": 9,
   "metadata": {},
   "outputs": [],
   "source": [
    "train_image_generator = ImageDataGenerator(rescale=1./255) # Generator for our training data\n",
    "validation_image_generator = ImageDataGenerator(rescale=1./255) # Generator for our validation data"
   ]
  },
  {
   "cell_type": "code",
   "execution_count": 10,
   "metadata": {},
   "outputs": [
    {
     "name": "stdout",
     "output_type": "stream",
     "text": [
      "Found 4845 images belonging to 2 classes.\n"
     ]
    }
   ],
   "source": [
    "train_data_gen = train_image_generator.flow_from_directory(batch_size=4558,\n",
    "                                                           directory=train_dir,\n",
    "                                                           shuffle=True,\n",
    "                                                           target_size=(IMG_HEIGHT, IMG_WIDTH),\n",
    "                                                           class_mode='binary')"
   ]
  },
  {
   "cell_type": "code",
   "execution_count": 11,
   "metadata": {},
   "outputs": [
    {
     "name": "stdout",
     "output_type": "stream",
     "text": [
      "Found 569 images belonging to 2 classes.\n"
     ]
    }
   ],
   "source": [
    "val_data_gen = validation_image_generator.flow_from_directory(batch_size=855,\n",
    "                                                              directory=validation_dir,\n",
    "                                                              target_size=(IMG_HEIGHT, IMG_WIDTH),\n",
    "                                                              class_mode='binary')"
   ]
  },
  {
   "cell_type": "code",
   "execution_count": 12,
   "metadata": {},
   "outputs": [],
   "source": [
    "X_train, y_train = next(train_data_gen)\n",
    "X_val, y_val = next(val_data_gen)"
   ]
  },
  {
   "cell_type": "markdown",
   "metadata": {},
   "source": [
    "## VGG19: Model Preparation"
   ]
  },
  {
   "cell_type": "code",
   "execution_count": 13,
   "metadata": {},
   "outputs": [
    {
     "name": "stderr",
     "output_type": "stream",
     "text": [
      "Using TensorFlow backend.\n"
     ]
    },
    {
     "name": "stdout",
     "output_type": "stream",
     "text": [
      "Model: \"vgg19\"\n",
      "_________________________________________________________________\n",
      "Layer (type)                 Output Shape              Param #   \n",
      "=================================================================\n",
      "input_1 (InputLayer)         (None, None, None, 3)     0         \n",
      "_________________________________________________________________\n",
      "block1_conv1 (Conv2D)        (None, None, None, 64)    1792      \n",
      "_________________________________________________________________\n",
      "block1_conv2 (Conv2D)        (None, None, None, 64)    36928     \n",
      "_________________________________________________________________\n",
      "block1_pool (MaxPooling2D)   (None, None, None, 64)    0         \n",
      "_________________________________________________________________\n",
      "block2_conv1 (Conv2D)        (None, None, None, 128)   73856     \n",
      "_________________________________________________________________\n",
      "block2_conv2 (Conv2D)        (None, None, None, 128)   147584    \n",
      "_________________________________________________________________\n",
      "block2_pool (MaxPooling2D)   (None, None, None, 128)   0         \n",
      "_________________________________________________________________\n",
      "block3_conv1 (Conv2D)        (None, None, None, 256)   295168    \n",
      "_________________________________________________________________\n",
      "block3_conv2 (Conv2D)        (None, None, None, 256)   590080    \n",
      "_________________________________________________________________\n",
      "block3_conv3 (Conv2D)        (None, None, None, 256)   590080    \n",
      "_________________________________________________________________\n",
      "block3_conv4 (Conv2D)        (None, None, None, 256)   590080    \n",
      "_________________________________________________________________\n",
      "block3_pool (MaxPooling2D)   (None, None, None, 256)   0         \n",
      "_________________________________________________________________\n",
      "block4_conv1 (Conv2D)        (None, None, None, 512)   1180160   \n",
      "_________________________________________________________________\n",
      "block4_conv2 (Conv2D)        (None, None, None, 512)   2359808   \n",
      "_________________________________________________________________\n",
      "block4_conv3 (Conv2D)        (None, None, None, 512)   2359808   \n",
      "_________________________________________________________________\n",
      "block4_conv4 (Conv2D)        (None, None, None, 512)   2359808   \n",
      "_________________________________________________________________\n",
      "block4_pool (MaxPooling2D)   (None, None, None, 512)   0         \n",
      "_________________________________________________________________\n",
      "block5_conv1 (Conv2D)        (None, None, None, 512)   2359808   \n",
      "_________________________________________________________________\n",
      "block5_conv2 (Conv2D)        (None, None, None, 512)   2359808   \n",
      "_________________________________________________________________\n",
      "block5_conv3 (Conv2D)        (None, None, None, 512)   2359808   \n",
      "_________________________________________________________________\n",
      "block5_conv4 (Conv2D)        (None, None, None, 512)   2359808   \n",
      "_________________________________________________________________\n",
      "block5_pool (MaxPooling2D)   (None, None, None, 512)   0         \n",
      "=================================================================\n",
      "Total params: 20,024,384\n",
      "Trainable params: 20,024,384\n",
      "Non-trainable params: 0\n",
      "_________________________________________________________________\n"
     ]
    }
   ],
   "source": [
    "from keras.applications.vgg19 import VGG19\n",
    "model = VGG19(include_top=False)\n",
    "model.summary()"
   ]
  },
  {
   "cell_type": "code",
   "execution_count": 14,
   "metadata": {},
   "outputs": [],
   "source": [
    "cnn_output=model.predict(X_train)"
   ]
  },
  {
   "cell_type": "markdown",
   "metadata": {},
   "source": [
    "## Fully-Connected Layer Tuning "
   ]
  },
  {
   "cell_type": "code",
   "execution_count": 15,
   "metadata": {},
   "outputs": [
    {
     "name": "stdout",
     "output_type": "stream",
     "text": [
      "fold:1\n",
      "(7, 7, 512)\n",
      "accuracy Train: 0.962, Test: 0.933\n",
      "loss Train: 0.103, Test: 0.144\n",
      "fold:2\n",
      "(7, 7, 512)\n",
      "accuracy Train: 0.960, Test: 0.948\n",
      "loss Train: 0.102, Test: 0.133\n",
      "fold:3\n",
      "(7, 7, 512)\n",
      "accuracy Train: 0.958, Test: 0.941\n",
      "loss Train: 0.100, Test: 0.170\n",
      "fold:4\n",
      "(7, 7, 512)\n",
      "accuracy Train: 0.507, Test: 0.506\n",
      "loss Train: 0.817, Test: 0.817\n",
      "fold:5\n",
      "(7, 7, 512)\n",
      "accuracy Train: 0.964, Test: 0.932\n",
      "loss Train: 0.102, Test: 0.172\n",
      "overall performance avg_acc: 0.852, avg_loss: 0.287\n"
     ]
    }
   ],
   "source": [
    "from keras.callbacks import ModelCheckpoint\n",
    "from keras.models import load_model\n",
    "from keras.callbacks import EarlyStopping\n",
    "from keras.layers import GlobalAveragePooling2D\n",
    "from keras.layers import Dense, Flatten\n",
    "from keras.models import Sequential\n",
    "\n",
    "\n",
    "def train_model_neural_net(X_train,y_train,X_val,y_val):\n",
    "    mc = ModelCheckpoint('best_model.h5', monitor='val_loss', mode='min', verbose=0, save_best_only=True)\n",
    "    es = EarlyStopping(monitor='val_loss', mode='min', verbose=0, patience=8)\n",
    "    print(X_train.shape[1:])\n",
    "    model = Sequential()\n",
    "    #model.add(GlobalAveragePooling2D(input_shape=(2, 2, 512)))\n",
    "    model.add(GlobalAveragePooling2D(input_shape=X_train.shape[1:]))\n",
    "    model.add(Dense(32, activation='relu'))\n",
    "    model.add(Dense(16, activation='relu'))\n",
    "    model.add(Dense(8, activation='relu'))\n",
    "    model.add(Dense(4, activation='softmax'))\n",
    "    model.compile(loss='sparse_categorical_crossentropy', optimizer='adam', metrics=['accuracy'])\n",
    "    history=model.fit(X_train,y_train ,validation_data=(X_val,y_val),epochs=50,shuffle=True,batch_size=128,callbacks=[es, mc], verbose=0)\n",
    "    saved_model = load_model('best_model.h5')\n",
    "    train_pred =saved_model.predict(X_train)            \n",
    "    valid_pred =saved_model.predict(X_val)\n",
    "    train_loss, train_acc = saved_model.evaluate(X_train,y_train, verbose=0)\n",
    "    val_loss, val_acc = saved_model.evaluate(X_val,y_val, verbose=0)\n",
    "    print('accuracy Train: %.3f, Test: %.3f' % (train_acc, val_acc))\n",
    "    print('loss Train: %.3f, Test: %.3f' % (train_loss, val_loss))\n",
    "    #test_pred = saved_model.predict(X_test)\n",
    "    return train_pred ,valid_pred,saved_model,train_loss, train_acc, val_acc,val_loss\n",
    "\n",
    "def train_kfold_neural_net(X_train,y_train,split=5):\n",
    "    final_train_pred=np.zeros((X_train.shape[0],4))\n",
    "    from sklearn.model_selection import StratifiedKFold\n",
    "    kf =  StratifiedKFold(n_splits=split, shuffle=False)\n",
    "    i=1\n",
    "    score=0\n",
    "    \n",
    "    accuracies=np.array([])\n",
    "    losses=np.array([])\n",
    "    \n",
    "    val_accuracies = np.array([])\n",
    "    train_accuracies = np.array([])\n",
    "    \n",
    "    val_losses = np.array([])\n",
    "    train_losses = np.array([])\n",
    "    \n",
    "    for train_index, val_index in kf.split(X_train, y_train):\n",
    "        \n",
    "        print(\"fold:\"+str(i))\n",
    "        train_fold_features, val_fold_features = X_train[train_index], X_train[val_index]\n",
    "        train_fold_target, val_fold_target = y_train[train_index], y_train[val_index] \n",
    "        \n",
    "        train_pred ,valid_pred,model,train_loss, train_acc, val_acc, val_loss=train_model_neural_net(\n",
    "            X_train=train_fold_features,\n",
    "            y_train= train_fold_target,\n",
    "            X_val= val_fold_features,\n",
    "            y_val= val_fold_target)\n",
    "        \n",
    "        accuracies=np.append(accuracies,val_acc)\n",
    "        losses=np.append(losses,val_loss)\n",
    "        \n",
    "        val_accuracies=np.append(val_accuracies,val_acc)\n",
    "        train_accuracies=np.append(train_accuracies,train_acc)\n",
    "        \n",
    "        val_losses=np.append(val_losses,val_loss)\n",
    "        train_losses=np.append(train_losses,train_loss)\n",
    "        \n",
    "        final_train_pred[val_index]=valid_pred\n",
    "        i=i+1\n",
    "    \n",
    "    avg_acc=accuracies.sum() / 5\n",
    "    avg_loss=losses.sum() / 5\n",
    "    print('overall performance avg_acc: %.3f, avg_loss: %.3f' % (avg_acc, avg_loss))\n",
    "    return final_train_pred,model,avg_acc,avg_loss,val_accuracies,train_accuracies,val_losses,train_losses\n",
    "\n",
    "final_train_pred,model,avg_acc,avg_loss, val_accuracies,train_accuracies,val_losses,train_losses=\\\n",
    "train_kfold_neural_net(cnn_output,y_train,split=5)"
   ]
  },
  {
   "cell_type": "code",
   "execution_count": 16,
   "metadata": {},
   "outputs": [
    {
     "data": {
      "text/plain": [
       "5"
      ]
     },
     "execution_count": 16,
     "metadata": {},
     "output_type": "execute_result"
    }
   ],
   "source": [
    "len(val_accuracies)"
   ]
  },
  {
   "cell_type": "code",
   "execution_count": 17,
   "metadata": {},
   "outputs": [
    {
     "data": {
      "image/png": "[encoded data removed]",
      "text/plain": [
       "<Figure size 576x576 with 2 Axes>"
      ]
     },
     "metadata": {
      "needs_background": "light"
     },
     "output_type": "display_data"
    }
   ],
   "source": [
    "folds_range = range(5)\n",
    "\n",
    "plt.figure(figsize=(8, 8))\n",
    "plt.subplot(1, 2, 1)\n",
    "plt.plot(folds_range, train_accuracies, label='Training Accuracy')\n",
    "plt.plot(folds_range, val_accuracies, label='Validation Accuracy')\n",
    "plt.legend(loc='lower right')\n",
    "plt.title('Training and Validation Accuracy')\n",
    "\n",
    "plt.subplot(1, 2, 2)\n",
    "plt.plot(folds_range, train_losses, label='Training Loss')\n",
    "plt.plot(folds_range, val_losses, label='Validation Loss')\n",
    "plt.legend(loc='upper right')\n",
    "plt.title('Training and Validation Loss')\n",
    "plt.show()"
   ]
  }
 ],
 "metadata": {
  "kernelspec": {
   "display_name": "Python 3",
   "language": "python",
   "name": "python3"
  },
  "language_info": {
   "codemirror_mode": {
    "name": "ipython",
    "version": 3
   },
   "file_extension": ".py",
   "mimetype": "text/x-python",
   "name": "python",
   "nbconvert_exporter": "python",
   "pygments_lexer": "ipython3",
   "version": "3.6.9"
  }
 },
 "nbformat": 4,
 "nbformat_minor": 4
}
