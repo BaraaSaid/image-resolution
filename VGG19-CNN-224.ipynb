{
 "cells": [
  {
   "cell_type": "code",
   "execution_count": 2,
   "metadata": {},
   "outputs": [],
   "source": [
    "import pickle\n",
    "import numpy as np"
   ]
  },
  {
   "cell_type": "markdown",
   "metadata": {},
   "source": [
    "## Data preparation"
   ]
  },
  {
   "cell_type": "code",
   "execution_count": 3,
   "metadata": {},
   "outputs": [],
   "source": [
    "data = pickle.load(open('../data/all_cropped_images_224.pkl','rb'))"
   ]
  },
  {
   "cell_type": "code",
   "execution_count": 4,
   "metadata": {},
   "outputs": [
    {
     "name": "stdout",
     "output_type": "stream",
     "text": [
      "(2800,)\n"
     ]
    },
    {
     "data": {
      "text/plain": [
       "array([0., 1., 2., 3.])"
      ]
     },
     "execution_count": 4,
     "metadata": {},
     "output_type": "execute_result"
    }
   ],
   "source": [
    "cracks_label=np.zeros(700)\n",
    "delaminations_lablel=np.ones(700)\n",
    "erosions_label=np.ones(700)+1\n",
    "lightning_strike=np.ones(700)+2\n",
    "labels=np.concatenate((cracks_label,delaminations_lablel))\n",
    "labels=np.concatenate((labels,erosions_label))\n",
    "labels=np.concatenate((labels,lightning_strike))\n",
    "print(labels.shape)\n",
    "np.unique(labels)"
   ]
  },
  {
   "cell_type": "code",
   "execution_count": 5,
   "metadata": {},
   "outputs": [
    {
     "data": {
      "text/plain": [
       "True"
      ]
     },
     "execution_count": 5,
     "metadata": {},
     "output_type": "execute_result"
    }
   ],
   "source": [
    "len(data) == len(labels)"
   ]
  },
  {
   "cell_type": "markdown",
   "metadata": {},
   "source": [
    "## VGG19: Model Preparation"
   ]
  },
  {
   "cell_type": "code",
   "execution_count": 6,
   "metadata": {},
   "outputs": [
    {
     "name": "stderr",
     "output_type": "stream",
     "text": [
      "Using TensorFlow backend.\n",
      "WARNING: Logging before flag parsing goes to stderr.\n",
      "W0712 14:55:40.523953 140694921144064 deprecation_wrapper.py:119] From /usr/local/lib/python3.5/dist-packages/keras/backend/tensorflow_backend.py:74: The name tf.get_default_graph is deprecated. Please use tf.compat.v1.get_default_graph instead.\n",
      "\n",
      "W0712 14:55:40.559103 140694921144064 deprecation_wrapper.py:119] From /usr/local/lib/python3.5/dist-packages/keras/backend/tensorflow_backend.py:517: The name tf.placeholder is deprecated. Please use tf.compat.v1.placeholder instead.\n",
      "\n",
      "W0712 14:55:40.575194 140694921144064 deprecation_wrapper.py:119] From /usr/local/lib/python3.5/dist-packages/keras/backend/tensorflow_backend.py:4138: The name tf.random_uniform is deprecated. Please use tf.random.uniform instead.\n",
      "\n",
      "W0712 14:55:40.620669 140694921144064 deprecation_wrapper.py:119] From /usr/local/lib/python3.5/dist-packages/keras/backend/tensorflow_backend.py:3976: The name tf.nn.max_pool is deprecated. Please use tf.nn.max_pool2d instead.\n",
      "\n",
      "W0712 14:55:41.213055 140694921144064 deprecation_wrapper.py:119] From /usr/local/lib/python3.5/dist-packages/keras/backend/tensorflow_backend.py:174: The name tf.get_default_session is deprecated. Please use tf.compat.v1.get_default_session instead.\n",
      "\n",
      "W0712 14:55:41.214663 140694921144064 deprecation_wrapper.py:119] From /usr/local/lib/python3.5/dist-packages/keras/backend/tensorflow_backend.py:181: The name tf.ConfigProto is deprecated. Please use tf.compat.v1.ConfigProto instead.\n",
      "\n"
     ]
    },
    {
     "name": "stdout",
     "output_type": "stream",
     "text": [
      "_________________________________________________________________\n",
      "Layer (type)                 Output Shape              Param #   \n",
      "=================================================================\n",
      "input_1 (InputLayer)         (None, None, None, 3)     0         \n",
      "_________________________________________________________________\n",
      "block1_conv1 (Conv2D)        (None, None, None, 64)    1792      \n",
      "_________________________________________________________________\n",
      "block1_conv2 (Conv2D)        (None, None, None, 64)    36928     \n",
      "_________________________________________________________________\n",
      "block1_pool (MaxPooling2D)   (None, None, None, 64)    0         \n",
      "_________________________________________________________________\n",
      "block2_conv1 (Conv2D)        (None, None, None, 128)   73856     \n",
      "_________________________________________________________________\n",
      "block2_conv2 (Conv2D)        (None, None, None, 128)   147584    \n",
      "_________________________________________________________________\n",
      "block2_pool (MaxPooling2D)   (None, None, None, 128)   0         \n",
      "_________________________________________________________________\n",
      "block3_conv1 (Conv2D)        (None, None, None, 256)   295168    \n",
      "_________________________________________________________________\n",
      "block3_conv2 (Conv2D)        (None, None, None, 256)   590080    \n",
      "_________________________________________________________________\n",
      "block3_conv3 (Conv2D)        (None, None, None, 256)   590080    \n",
      "_________________________________________________________________\n",
      "block3_conv4 (Conv2D)        (None, None, None, 256)   590080    \n",
      "_________________________________________________________________\n",
      "block3_pool (MaxPooling2D)   (None, None, None, 256)   0         \n",
      "_________________________________________________________________\n",
      "block4_conv1 (Conv2D)        (None, None, None, 512)   1180160   \n",
      "_________________________________________________________________\n",
      "block4_conv2 (Conv2D)        (None, None, None, 512)   2359808   \n",
      "_________________________________________________________________\n",
      "block4_conv3 (Conv2D)        (None, None, None, 512)   2359808   \n",
      "_________________________________________________________________\n",
      "block4_conv4 (Conv2D)        (None, None, None, 512)   2359808   \n",
      "_________________________________________________________________\n",
      "block4_pool (MaxPooling2D)   (None, None, None, 512)   0         \n",
      "_________________________________________________________________\n",
      "block5_conv1 (Conv2D)        (None, None, None, 512)   2359808   \n",
      "_________________________________________________________________\n",
      "block5_conv2 (Conv2D)        (None, None, None, 512)   2359808   \n",
      "_________________________________________________________________\n",
      "block5_conv3 (Conv2D)        (None, None, None, 512)   2359808   \n",
      "_________________________________________________________________\n",
      "block5_conv4 (Conv2D)        (None, None, None, 512)   2359808   \n",
      "_________________________________________________________________\n",
      "block5_pool (MaxPooling2D)   (None, None, None, 512)   0         \n",
      "=================================================================\n",
      "Total params: 20,024,384\n",
      "Trainable params: 20,024,384\n",
      "Non-trainable params: 0\n",
      "_________________________________________________________________\n"
     ]
    }
   ],
   "source": [
    "from keras.applications.vgg19 import VGG19\n",
    "model = VGG19(include_top=False)\n",
    "model.summary()"
   ]
  },
  {
   "cell_type": "code",
   "execution_count": 14,
   "metadata": {},
   "outputs": [],
   "source": [
    "cnn_output=model.predict(data)"
   ]
  },
  {
   "cell_type": "code",
   "execution_count": 13,
   "metadata": {},
   "outputs": [
    {
     "name": "stdout",
     "output_type": "stream",
     "text": [
      "(2800, 7, 7, 512)\n"
     ]
    }
   ],
   "source": [
    "with open('all_cropped_images_224_precomputed_cnn_features_vgg19.pkl','wb') as f:\n",
    "    pickle.dump(cnn_output, f)\n",
    "print(cnn_output.shape)"
   ]
  },
  {
   "cell_type": "code",
   "execution_count": 7,
   "metadata": {},
   "outputs": [
    {
     "data": {
      "text/plain": [
       "(2800, 7, 7, 512)"
      ]
     },
     "execution_count": 7,
     "metadata": {},
     "output_type": "execute_result"
    }
   ],
   "source": [
    "cnn_output = pickle.load(open('all_cropped_images_224_precomputed_cnn_features_vgg19.pkl','rb'))\n",
    "cnn_output.shape"
   ]
  },
  {
   "cell_type": "markdown",
   "metadata": {},
   "source": [
    "## Fully-Connected Layer Tuning "
   ]
  },
  {
   "cell_type": "code",
   "execution_count": 14,
   "metadata": {},
   "outputs": [
    {
     "name": "stdout",
     "output_type": "stream",
     "text": [
      "fold:1\n",
      "(7, 7, 512)\n",
      "accuracy Train: 0.925, Test: 0.843\n",
      "loss Train: 0.266, Test: 0.516\n",
      "fold:2\n",
      "(7, 7, 512)\n",
      "accuracy Train: 0.913, Test: 0.821\n",
      "loss Train: 0.297, Test: 0.566\n",
      "fold:3\n",
      "(7, 7, 512)\n",
      "accuracy Train: 0.921, Test: 0.836\n",
      "loss Train: 0.257, Test: 0.570\n",
      "fold:4\n",
      "(7, 7, 512)\n",
      "accuracy Train: 0.900, Test: 0.825\n",
      "loss Train: 0.318, Test: 0.521\n",
      "fold:5\n",
      "(7, 7, 512)\n",
      "accuracy Train: 0.923, Test: 0.804\n",
      "loss Train: 0.297, Test: 0.669\n",
      "overall performance avg_acc: 0.826, avg_loss: 0.568\n"
     ]
    }
   ],
   "source": [
    "from keras.callbacks import ModelCheckpoint\n",
    "from keras.models import load_model\n",
    "from keras.callbacks import EarlyStopping\n",
    "from keras.layers import GlobalAveragePooling2D\n",
    "from keras.layers import Dense, Flatten\n",
    "from keras.models import Sequential\n",
    "\n",
    "\n",
    "def train_model_neural_net(X_train,Y_train,X_val,Y_val):\n",
    "    mc = ModelCheckpoint('best_model.h5', monitor='val_loss', mode='min', verbose=0, save_best_only=True)\n",
    "    es = EarlyStopping(monitor='val_loss', mode='min', verbose=0, patience=8)\n",
    "    print(X_train.shape[1:])\n",
    "    model = Sequential()\n",
    "    #model.add(GlobalAveragePooling2D(input_shape=(2, 2, 512)))\n",
    "    model.add(GlobalAveragePooling2D(input_shape=X_train.shape[1:]))\n",
    "    model.add(Dense(32, activation='relu'))\n",
    "    model.add(Dense(16, activation='relu'))\n",
    "    model.add(Dense(8, activation='relu'))\n",
    "    model.add(Dense(4, activation='softmax'))\n",
    "    model.compile(loss='sparse_categorical_crossentropy', optimizer='adam', metrics=['accuracy'])\n",
    "    history=model.fit(X_train,Y_train ,validation_data=(X_val,Y_val),epochs=50,shuffle=True,batch_size=256,callbacks=[es, mc], verbose=0)\n",
    "    saved_model = load_model('best_model.h5')\n",
    "    train_pred =saved_model.predict(X_train)            \n",
    "    valid_pred =saved_model.predict(X_val)\n",
    "    train_loss, train_acc = saved_model.evaluate(X_train,Y_train, verbose=0)\n",
    "    val_loss, val_acc = saved_model.evaluate(X_val,Y_val, verbose=0)\n",
    "    print('accuracy Train: %.3f, Test: %.3f' % (train_acc, val_acc))\n",
    "    print('loss Train: %.3f, Test: %.3f' % (train_loss, val_loss))\n",
    "    #test_pred = saved_model.predict(X_test)\n",
    "    return train_pred ,valid_pred,saved_model,val_acc,val_loss\n",
    "\n",
    "def train_kfold_neural_net(X_train,Y_train,split=5):\n",
    "    final_train_pred=np.zeros((X_train.shape[0],4))\n",
    "    from sklearn.model_selection import StratifiedKFold\n",
    "    kf =  StratifiedKFold(n_splits=split, shuffle=False)\n",
    "    i=1\n",
    "    score=0\n",
    "    accuracies=np.array([])\n",
    "    losses=np.array([])\n",
    "    for train_index, val_index in kf.split(X_train, Y_train):\n",
    "        print(\"fold:\"+str(i))\n",
    "        train_fold_features, val_fold_features = X_train[train_index], X_train[val_index]\n",
    "        train_fold_target, val_fold_target = Y_train[train_index], Y_train[val_index] \n",
    "        \n",
    "        train_pred ,valid_pred,model,val_acc,val_loss=train_model_neural_net( \n",
    "                                                        X_train=train_fold_features,\n",
    "                                                        Y_train= train_fold_target,\n",
    "                                                        X_val= val_fold_features,\n",
    "                                                        Y_val= val_fold_target\n",
    "                                                    )\n",
    "        accuracies=np.append(accuracies,val_acc)\n",
    "        losses=np.append(losses,val_loss)\n",
    "        final_train_pred[val_index]=valid_pred\n",
    "        i=i+1\n",
    "    avg_acc=accuracies.sum() / 5\n",
    "    avg_loss=losses.sum() / 5\n",
    "    print('overall performance avg_acc: %.3f, avg_loss: %.3f' % (avg_acc, avg_loss))\n",
    "    return final_train_pred,model,avg_acc,avg_loss\n",
    "\n",
    "final_train_pred,model,avg_acc,avg_loss=train_kfold_neural_net(cnn_output,Y_train=labels,split=5)"
   ]
  },
  {
   "cell_type": "markdown",
   "metadata": {},
   "source": [
    "## Confusion Matrix"
   ]
  },
  {
   "cell_type": "code",
   "execution_count": 15,
   "metadata": {},
   "outputs": [
    {
     "name": "stdout",
     "output_type": "stream",
     "text": [
      "Confusion matrix, without normalization\n"
     ]
    },
    {
     "data": {
      "image/png": "[encoded data removed]",
      "text/plain": [
       "<Figure size 432x288 with 2 Axes>"
      ]
     },
     "metadata": {
      "needs_background": "light"
     },
     "output_type": "display_data"
    }
   ],
   "source": [
    "import itertools\n",
    "import pandas as pd\n",
    "import matplotlib.pyplot as plt\n",
    "def plot_confusion_matrix(cm, classes,\n",
    "                          normalize=False,\n",
    "                          title='Confusion matrix',\n",
    "                          cmap=plt.cm.Blues):\n",
    "    \"\"\"\n",
    "    This function prints and plots the confusion matrix.\n",
    "    Normalization can be applied by setting `normalize=True`.\n",
    "    \"\"\"\n",
    "    if normalize:\n",
    "        cm = cm.astype('float') / cm.sum(axis=1)[:, np.newaxis]\n",
    "        print(\"Normalized confusion matrix\")\n",
    "    else:\n",
    "        print('Confusion matrix, without normalization')\n",
    "\n",
    "    plt.imshow(cm, interpolation='nearest', cmap=cmap)\n",
    "    plt.title(title)\n",
    "    plt.colorbar()\n",
    "    tick_marks = np.arange(len(classes))\n",
    "    plt.xticks(tick_marks, classes, rotation=45)\n",
    "    plt.yticks(tick_marks, classes)\n",
    "\n",
    "    fmt = '.2f' if normalize else 'd'\n",
    "    thresh = cm.max() / 2.\n",
    "    for i, j in itertools.product(range(cm.shape[0]), range(cm.shape[1])):\n",
    "        plt.text(j, i, format(cm[i, j], fmt),\n",
    "                 horizontalalignment=\"center\",\n",
    "                 color=\"white\" if cm[i, j] > thresh else \"black\")\n",
    "\n",
    "    plt.ylabel('True label')\n",
    "    plt.xlabel('Predicted label')\n",
    "    plt.tight_layout()\n",
    "stat_pred=pd.DataFrame()\n",
    "stat_pred[\"pred\"]=np.argmax(final_train_pred,axis=1)\n",
    "stat_pred[\"true\"]=labels\n",
    "stat_pred.true=stat_pred.true.astype('int8')\n",
    "from sklearn.metrics import confusion_matrix\n",
    "cnf_matrix = confusion_matrix(stat_pred.true.values, stat_pred.pred.values, labels=[0,1,2,3])\n",
    "np.set_printoptions(precision=2)\n",
    "# Plot non-normalized confusion matrix\n",
    "plt.figure()\n",
    "plot_confusion_matrix(cnf_matrix, classes=['cracks','delaminations','erosions','lightning_strike'],\n",
    "                      title='Confusion matrix, without normalization')"
   ]
  }
 ],
 "metadata": {
  "kernelspec": {
   "display_name": "Python 3",
   "language": "python",
   "name": "python3"
  },
  "language_info": {
   "codemirror_mode": {
    "name": "ipython",
    "version": 3
   },
   "file_extension": ".py",
   "mimetype": "text/x-python",
   "name": "python",
   "nbconvert_exporter": "python",
   "pygments_lexer": "ipython3",
   "version": "3.5.3"
  }
 },
 "nbformat": 4,
 "nbformat_minor": 2
}
