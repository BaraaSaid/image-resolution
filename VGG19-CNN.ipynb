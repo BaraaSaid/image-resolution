{
 "cells": [
  {
   "cell_type": "code",
   "execution_count": 1,
   "metadata": {},
   "outputs": [],
   "source": [
    "import pickle\n",
    "import numpy as np"
   ]
  },
  {
   "cell_type": "markdown",
   "metadata": {},
   "source": [
    "## VGG19: Model Preparation"
   ]
  },
  {
   "cell_type": "code",
   "execution_count": 2,
   "metadata": {},
   "outputs": [
    {
     "name": "stderr",
     "output_type": "stream",
     "text": [
      "Using TensorFlow backend.\n"
     ]
    },
    {
     "name": "stdout",
     "output_type": "stream",
     "text": [
      "WARNING:tensorflow:From /usr/local/lib/python3.5/dist-packages/tensorflow_core/python/ops/resource_variable_ops.py:1630: calling BaseResourceVariable.__init__ (from tensorflow.python.ops.resource_variable_ops) with constraint is deprecated and will be removed in a future version.\n",
      "Instructions for updating:\n",
      "If using Keras pass *_constraint arguments to layers.\n",
      "WARNING:tensorflow:From /usr/local/lib/python3.5/dist-packages/keras/backend/tensorflow_backend.py:4070: The name tf.nn.max_pool is deprecated. Please use tf.nn.max_pool2d instead.\n",
      "\n",
      "Downloading data from https://github.com/fchollet/deep-learning-models/releases/download/v0.1/vgg19_weights_tf_dim_ordering_tf_kernels_notop.h5\n",
      "80142336/80134624 [==============================] - 2s 0us/step\n",
      "Model: \"vgg19\"\n",
      "_________________________________________________________________\n",
      "Layer (type)                 Output Shape              Param #   \n",
      "=================================================================\n",
      "input_1 (InputLayer)         (None, None, None, 3)     0         \n",
      "_________________________________________________________________\n",
      "block1_conv1 (Conv2D)        (None, None, None, 64)    1792      \n",
      "_________________________________________________________________\n",
      "block1_conv2 (Conv2D)        (None, None, None, 64)    36928     \n",
      "_________________________________________________________________\n",
      "block1_pool (MaxPooling2D)   (None, None, None, 64)    0         \n",
      "_________________________________________________________________\n",
      "block2_conv1 (Conv2D)        (None, None, None, 128)   73856     \n",
      "_________________________________________________________________\n",
      "block2_conv2 (Conv2D)        (None, None, None, 128)   147584    \n",
      "_________________________________________________________________\n",
      "block2_pool (MaxPooling2D)   (None, None, None, 128)   0         \n",
      "_________________________________________________________________\n",
      "block3_conv1 (Conv2D)        (None, None, None, 256)   295168    \n",
      "_________________________________________________________________\n",
      "block3_conv2 (Conv2D)        (None, None, None, 256)   590080    \n",
      "_________________________________________________________________\n",
      "block3_conv3 (Conv2D)        (None, None, None, 256)   590080    \n",
      "_________________________________________________________________\n",
      "block3_conv4 (Conv2D)        (None, None, None, 256)   590080    \n",
      "_________________________________________________________________\n",
      "block3_pool (MaxPooling2D)   (None, None, None, 256)   0         \n",
      "_________________________________________________________________\n",
      "block4_conv1 (Conv2D)        (None, None, None, 512)   1180160   \n",
      "_________________________________________________________________\n",
      "block4_conv2 (Conv2D)        (None, None, None, 512)   2359808   \n",
      "_________________________________________________________________\n",
      "block4_conv3 (Conv2D)        (None, None, None, 512)   2359808   \n",
      "_________________________________________________________________\n",
      "block4_conv4 (Conv2D)        (None, None, None, 512)   2359808   \n",
      "_________________________________________________________________\n",
      "block4_pool (MaxPooling2D)   (None, None, None, 512)   0         \n",
      "_________________________________________________________________\n",
      "block5_conv1 (Conv2D)        (None, None, None, 512)   2359808   \n",
      "_________________________________________________________________\n",
      "block5_conv2 (Conv2D)        (None, None, None, 512)   2359808   \n",
      "_________________________________________________________________\n",
      "block5_conv3 (Conv2D)        (None, None, None, 512)   2359808   \n",
      "_________________________________________________________________\n",
      "block5_conv4 (Conv2D)        (None, None, None, 512)   2359808   \n",
      "_________________________________________________________________\n",
      "block5_pool (MaxPooling2D)   (None, None, None, 512)   0         \n",
      "=================================================================\n",
      "Total params: 20,024,384\n",
      "Trainable params: 20,024,384\n",
      "Non-trainable params: 0\n",
      "_________________________________________________________________\n"
     ]
    }
   ],
   "source": [
    "from keras.applications.vgg19 import VGG19\n",
    "model = VGG19(include_top=False)\n",
    "model.summary()"
   ]
  },
  {
   "cell_type": "code",
   "execution_count": 4,
   "metadata": {},
   "outputs": [],
   "source": [
    "#cnn_output=model.predict(data)"
   ]
  },
  {
   "cell_type": "markdown",
   "metadata": {},
   "source": [
    "## Fully-Connected Layer Tuning "
   ]
  },
  {
   "cell_type": "code",
   "execution_count": 14,
   "metadata": {},
   "outputs": [
    {
     "name": "stdout",
     "output_type": "stream",
     "text": [
      "fold:1\n",
      "(7, 7, 512)\n",
      "accuracy Train: 0.925, Test: 0.843\n",
      "loss Train: 0.266, Test: 0.516\n",
      "fold:2\n",
      "(7, 7, 512)\n",
      "accuracy Train: 0.913, Test: 0.821\n",
      "loss Train: 0.297, Test: 0.566\n",
      "fold:3\n",
      "(7, 7, 512)\n",
      "accuracy Train: 0.921, Test: 0.836\n",
      "loss Train: 0.257, Test: 0.570\n",
      "fold:4\n",
      "(7, 7, 512)\n",
      "accuracy Train: 0.900, Test: 0.825\n",
      "loss Train: 0.318, Test: 0.521\n",
      "fold:5\n",
      "(7, 7, 512)\n",
      "accuracy Train: 0.923, Test: 0.804\n",
      "loss Train: 0.297, Test: 0.669\n",
      "overall performance avg_acc: 0.826, avg_loss: 0.568\n"
     ]
    }
   ],
   "source": [
    "from keras.callbacks import ModelCheckpoint\n",
    "from keras.models import load_model\n",
    "from keras.callbacks import EarlyStopping\n",
    "from keras.layers import GlobalAveragePooling2D\n",
    "from keras.layers import Dense, Flatten\n",
    "from keras.models import Sequential\n",
    "\n",
    "\n",
    "def train_model_neural_net(X_train,Y_train,X_val,Y_val):\n",
    "    mc = ModelCheckpoint('best_model.h5', monitor='val_loss', mode='min', verbose=0, save_best_only=True)\n",
    "    es = EarlyStopping(monitor='val_loss', mode='min', verbose=0, patience=8)\n",
    "    print(X_train.shape[1:])\n",
    "    model = Sequential()\n",
    "    #model.add(GlobalAveragePooling2D(input_shape=(2, 2, 512)))\n",
    "    model.add(GlobalAveragePooling2D(input_shape=X_train.shape[1:]))\n",
    "    model.add(Dense(32, activation='relu'))\n",
    "    model.add(Dense(16, activation='relu'))\n",
    "    model.add(Dense(8, activation='relu'))\n",
    "    model.add(Dense(4, activation='softmax'))\n",
    "    model.compile(loss='sparse_categorical_crossentropy', optimizer='adam', metrics=['accuracy'])\n",
    "    history=model.fit(X_train,Y_train ,validation_data=(X_val,Y_val),epochs=50,shuffle=True,batch_size=256,callbacks=[es, mc], verbose=0)\n",
    "    saved_model = load_model('best_model.h5')\n",
    "    train_pred =saved_model.predict(X_train)            \n",
    "    valid_pred =saved_model.predict(X_val)\n",
    "    train_loss, train_acc = saved_model.evaluate(X_train,Y_train, verbose=0)\n",
    "    val_loss, val_acc = saved_model.evaluate(X_val,Y_val, verbose=0)\n",
    "    print('accuracy Train: %.3f, Test: %.3f' % (train_acc, val_acc))\n",
    "    print('loss Train: %.3f, Test: %.3f' % (train_loss, val_loss))\n",
    "    #test_pred = saved_model.predict(X_test)\n",
    "    return train_pred ,valid_pred,saved_model,val_acc,val_loss\n",
    "\n",
    "def train_kfold_neural_net(X_train,Y_train,split=5):\n",
    "    final_train_pred=np.zeros((X_train.shape[0],4))\n",
    "    from sklearn.model_selection import StratifiedKFold\n",
    "    kf =  StratifiedKFold(n_splits=split, shuffle=False)\n",
    "    i=1\n",
    "    score=0\n",
    "    accuracies=np.array([])\n",
    "    losses=np.array([])\n",
    "    for train_index, val_index in kf.split(X_train, Y_train):\n",
    "        print(\"fold:\"+str(i))\n",
    "        train_fold_features, val_fold_features = X_train[train_index], X_train[val_index]\n",
    "        train_fold_target, val_fold_target = Y_train[train_index], Y_train[val_index] \n",
    "        \n",
    "        train_pred ,valid_pred,model,val_acc,val_loss=train_model_neural_net( \n",
    "                                                        X_train=train_fold_features,\n",
    "                                                        Y_train= train_fold_target,\n",
    "                                                        X_val= val_fold_features,\n",
    "                                                        Y_val= val_fold_target\n",
    "                                                    )\n",
    "        accuracies=np.append(accuracies,val_acc)\n",
    "        losses=np.append(losses,val_loss)\n",
    "        final_train_pred[val_index]=valid_pred\n",
    "        i=i+1\n",
    "    avg_acc=accuracies.sum() / 5\n",
    "    avg_loss=losses.sum() / 5\n",
    "    print('overall performance avg_acc: %.3f, avg_loss: %.3f' % (avg_acc, avg_loss))\n",
    "    return final_train_pred,model,avg_acc,avg_loss\n",
    "\n",
    "final_train_pred,model,avg_acc,avg_loss=train_kfold_neural_net(cnn_output,Y_train=labels,split=5)"
   ]
  }
 ],
 "metadata": {
  "kernelspec": {
   "display_name": "Python 3",
   "language": "python",
   "name": "python3"
  },
  "language_info": {
   "codemirror_mode": {
    "name": "ipython",
    "version": 3
   },
   "file_extension": ".py",
   "mimetype": "text/x-python",
   "name": "python",
   "nbconvert_exporter": "python",
   "pygments_lexer": "ipython3",
   "version": "3.5.3"
  }
 },
 "nbformat": 4,
 "nbformat_minor": 4
}
