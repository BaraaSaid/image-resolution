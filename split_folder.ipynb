{
 "cells": [
  {
   "cell_type": "code",
   "execution_count": 8,
   "metadata": {},
   "outputs": [
    {
     "name": "stdout",
     "output_type": "stream",
     "text": [
      "Total images:  958\n",
      "Training:  862\n",
      "Validation:  48\n",
      "Testing:  48\n",
      "Total images:  525\n",
      "Training:  472\n",
      "Validation:  26\n",
      "Testing:  27\n"
     ]
    }
   ],
   "source": [
    "import os\n",
    "import numpy as np\n",
    "import shutil\n",
    "import random\n",
    "\n",
    "# # Creating Train / Val / Test folders (One time use)\n",
    "root_dir = 'Data_224_backup'\n",
    "classes_dir = ['/cats', '/dogs']\n",
    "\n",
    "val_ratio = 0.15\n",
    "test_ratio = 0.05\n",
    "\n",
    "for cls in classes_dir:\n",
    "    os.makedirs(root_dir +'/train' + cls)\n",
    "    os.makedirs(root_dir +'/val' + cls)\n",
    "    os.makedirs(root_dir +'/test' + cls)\n",
    "\n",
    "\n",
    "    # Creating partitions of the data after shuffeling\n",
    "    src = root_dir + cls # Folder to copy images from\n",
    "\n",
    "    allFileNames = os.listdir(src)\n",
    "    np.random.shuffle(allFileNames)\n",
    "    train_FileNames, val_FileNames, test_FileNames = np.split(np.array(allFileNames),\n",
    "                                                              [int(len(allFileNames)* (1 - val_ratio + test_ratio)), \n",
    "                                                               int(len(allFileNames)* (1 - test_ratio))])\n",
    "\n",
    "\n",
    "    train_FileNames = [src+'/'+ name for name in train_FileNames.tolist()]\n",
    "    val_FileNames = [src+'/' + name for name in val_FileNames.tolist()]\n",
    "    test_FileNames = [src+'/' + name for name in test_FileNames.tolist()]\n",
    "\n",
    "    print('Total images: ', len(allFileNames))\n",
    "    print('Training: ', len(train_FileNames))\n",
    "    print('Validation: ', len(val_FileNames))\n",
    "    print('Testing: ', len(test_FileNames))\n",
    "\n",
    "    # Copy-pasting images\n",
    "    for name in train_FileNames:\n",
    "        shutil.copy(name, root_dir +'/train' + cls)\n",
    "\n",
    "    for name in val_FileNames:\n",
    "        shutil.copy(name, root_dir +'/val' + cls)\n",
    "\n",
    "    for name in test_FileNames:\n",
    "        shutil.copy(name, root_dir +'/test' + cls)"
   ]
  },
  {
   "cell_type": "code",
   "execution_count": 9,
   "metadata": {},
   "outputs": [
    {
     "name": "stdout",
     "output_type": "stream",
     "text": [
      "Total images:  959\n",
      "Training:  863\n",
      "Validation:  48\n",
      "Testing:  48\n",
      "Total images:  939\n",
      "Training:  845\n",
      "Validation:  47\n",
      "Testing:  47\n"
     ]
    }
   ],
   "source": [
    "import os\n",
    "import numpy as np\n",
    "import shutil\n",
    "import random\n",
    "\n",
    "# # Creating Train / Val / Test folders (One time use)\n",
    "root_dir = 'Data'\n",
    "classes_dir = ['/cats', '/dogs']\n",
    "\n",
    "val_ratio = 0.15\n",
    "test_ratio = 0.05\n",
    "\n",
    "for cls in classes_dir:\n",
    "    os.makedirs(root_dir +'/train' + cls)\n",
    "    os.makedirs(root_dir +'/val' + cls)\n",
    "    os.makedirs(root_dir +'/test' + cls)\n",
    "\n",
    "\n",
    "    # Creating partitions of the data after shuffeling\n",
    "    src = root_dir + cls # Folder to copy images from\n",
    "\n",
    "    allFileNames = os.listdir(src)\n",
    "    np.random.shuffle(allFileNames)\n",
    "    train_FileNames, val_FileNames, test_FileNames = np.split(np.array(allFileNames),\n",
    "                                                              [int(len(allFileNames)* (1 - val_ratio + test_ratio)), \n",
    "                                                               int(len(allFileNames)* (1 - test_ratio))])\n",
    "\n",
    "\n",
    "    train_FileNames = [src+'/'+ name for name in train_FileNames.tolist()]\n",
    "    val_FileNames = [src+'/' + name for name in val_FileNames.tolist()]\n",
    "    test_FileNames = [src+'/' + name for name in test_FileNames.tolist()]\n",
    "\n",
    "    print('Total images: ', len(allFileNames))\n",
    "    print('Training: ', len(train_FileNames))\n",
    "    print('Validation: ', len(val_FileNames))\n",
    "    print('Testing: ', len(test_FileNames))\n",
    "\n",
    "    # Copy-pasting images\n",
    "    for name in train_FileNames:\n",
    "        shutil.copy(name, root_dir +'/train' + cls)\n",
    "\n",
    "    for name in val_FileNames:\n",
    "        shutil.copy(name, root_dir +'/val' + cls)\n",
    "\n",
    "    for name in test_FileNames:\n",
    "        shutil.copy(name, root_dir +'/test' + cls)"
   ]
  },
  {
   "cell_type": "code",
   "execution_count": null,
   "metadata": {},
   "outputs": [],
   "source": []
  }
 ],
 "metadata": {
  "kernelspec": {
   "display_name": "Python 3",
   "language": "python",
   "name": "python3"
  },
  "language_info": {
   "codemirror_mode": {
    "name": "ipython",
    "version": 3
   },
   "file_extension": ".py",
   "mimetype": "text/x-python",
   "name": "python",
   "nbconvert_exporter": "python",
   "pygments_lexer": "ipython3",
   "version": "3.5.3"
  }
 },
 "nbformat": 4,
 "nbformat_minor": 4
}
